{
 "cells": [
  {
   "cell_type": "markdown",
   "metadata": {},
   "source": [
    "# Novelpy Tutorial\n",
    "\n",
    "The aim of this notebook is to showcase the capabilities of the Novelpy package using a controlled sample. We will discuss the different features we have implemented and those that we intend to add in the future. This notebook exclusively operates with JSON. However, please note that for RAM and, sometimes, speed efficiency, we typically use MongoDB. If you prefer to use MongoDB, make sure to refer to this notebook instead:[ Novelpy MongoDB Tutorial ](https://github.com/Kwirtz/novelpy/tutorial/tuts_MongoDB.ipynb)(the comments and discussion remain the same; only the scripts change).\n",
    "\n",
    "First we recommend you create a specific environment. We use SciPy and it tends to be tricky in terms of compatiblity issues. Then create a project folder and you need to add the en_core_sci_lg folder inside (you can find it here https://allenai.github.io/scispacy/) and the path to the files should be like this en_core_sci_lg-0.5.3\\en_core_sci_lg\\en_core_sci_lg-0.5.3. As you can see we use the 0.5.3 version we will tell you when to change if you have another version.\n",
    "\n",
    "We have provided a small sample of data to help you become acquainted with the package and the required data structure. To obtain this sample, one needs to run the following code in the \"project\" folder:"
   ]
  },
  {
   "cell_type": "code",
   "execution_count": 2,
   "metadata": {},
   "outputs": [
    {
     "name": "stderr",
     "output_type": "stream",
     "text": [
      "Citation_net_sample.zip: 100%|██████████| 191M/191M [01:05<00:00, 3.08MiB/s] \n",
      "Meshterms_sample.zip: 100%|██████████| 149M/149M [00:34<00:00, 4.56MiB/s] \n",
      "Ref_Journals_sample.zip: 100%|██████████| 16.0M/16.0M [00:00<00:00, 37.7MiB/s]\n",
      "Title_abs_sample.zip: 100%|██████████| 784M/784M [02:27<00:00, 5.57MiB/s] \n",
      "authors_sample.zip: 100%|██████████| 396M/396M [01:15<00:00, 5.50MiB/s] \n"
     ]
    }
   ],
   "source": [
    "from novelpy.utils.get_sample import download_sample\n",
    "download_sample()"
   ]
  },
  {
   "cell_type": "markdown",
   "metadata": {},
   "source": [
    "This will create a folder named \"Data\" with various subfolders inside. Within each subfolder, you will find a JSON file for each year. Let's explore each folder to understand its purpose and the structure of the data inside. First most Novelty indicator work at the year level, explaining the choice of a file per year. Then depending on which indicator you run you need different information. Please refer to this paper https://arxiv.org/abs/2211.10346 if you want to learn more what we summarize here.\n",
    "\n",
    "## Co-occurence novelty based indicators\n",
    "Let us start with the indicators that use a matrix of co-occurence. These indicator look at either the combination of journals in the references of a paper or the combination of keywords (in the case of PubMed MeshTerms). \n",
    "Here's a list of these indicators: Uzzi et al. (2013), Foster et al. (2015), Lee et al. (2015), Wang et al. (2017)\n",
    "\n",
    "For these indicators you will only need the folders Meshterms_sample or Ref_Journals_sample. For the indicators of Foster et al., Lee et al. and Wang et al. you only need three pieces of information of a document. The year of creation of the document and the entities they use. So each JSON file will be a list of dictionaries. Here is the example of a single dictionary:\n",
    "\n",
    "\n",
    "dict_Ref_Journals = {\"PMID\": 16992327, \"year\": 1896, \"c04_referencelist\": [{\"item\": \"0022-3751\"}]}\n",
    "\n",
    "OR\n",
    "\n",
    "dict_Meshterms = {\"PMID\": 12255534, \"year\": 1902, \"Mesh_year_category\": [{\"descUI\": \"D000830\"}, {\"descUI\": \"D001695\"}]}\n",
    "\n",
    "For the indicator of Uzzi et al. you also need the year of creation of the entities:\n",
    "\n",
    "\n",
    "dict_Ref_Journals = {\"PMID\": 16992327, \"year\": 1896\", \"c04_referencelist\": [{\"item\": \"0022-3751\", \"year\": 1893}]}\n",
    "\n",
    "OR\n",
    "\n",
    "dict_Meshterms = {\"PMID\": 12255534, \"year\": 1902, \"Mesh_year_category\": [{\"descUI\": \"D000830\", \"year\": 1999}, {\"descUI\": \"D001695\", \"year\": 1999}]}\n",
    "\n",
    "## Word-embedding based Novelty indicators\n",
    "\n",
    "To run Shibayama et al. (2021), one needs the Citation_net_sample (i.e. a list of the ID of papers the document cite and not only) but also Title_abs_sample in which you will find the abstract and/or title of papers.\n",
    "\n",
    "dict_citation_net = {\"PMID\": 20793277, \"year\": 1850, \"refs_pmid_wos\": [20794613, 20794649, 20794685, 20794701, 20794789, 20794829]}\n",
    "\n",
    "AND\n",
    "\n",
    "dict_title_abs = {\"PMID\": 20793277, \"year\": 1850, \"ArticleTitle\": \"Here is the title\", \"a04_abstract\":[{\"AbstractText\":\"This is the abstract\"}]}\n",
    "\n",
    "Or You can also have the following format for title abs. In this case leave the abstract_sub_variable argument empty\n",
    "\n",
    "dict_title_abs = {\"PMID\": 20793277, \"year\": 1850, \"ArticleTitle\": \"Here is the title\", \"a04_abstract\":\"This is the abstract\"}\n",
    "\n",
    "To run Pelletier et Wirtz. (2023) you need the Title_abs_sample but also authors_sample in which you will find the list of the Authors of a document\n",
    "\n",
    "dict_authors_list = {\"PMID\": 20793277, \"year\": 1850, \"a02_authorlist\": [{\"id\":201645},{\"id\":51331354}]}\n",
    "\n",
    "AND\n",
    "\n",
    "dict_title_abs = {\"PMID\": 20793277, \"year\": 1850, \"ArticleTitle\": \"Here is the title\", \"a04_abstract\":[{\"AbstractText\":\"This is the abstract\"}]}\n",
    "\n",
    "Or You can also have the following format for title abs. In this case leave the abstract_sub_variable argument empty\n",
    "\n",
    "dict_title_abs = {\"PMID\": 20793277, \"year\": 1850, \"ArticleTitle\": \"Here is the title\", \"a04_abstract\":\"This is the abstract\"}\n",
    "\n",
    "\n",
    "## Disruption indicators\n",
    "\n",
    "\n"
   ]
  },
  {
   "cell_type": "code",
   "execution_count": 2,
   "metadata": {},
   "outputs": [
    {
     "name": "stderr",
     "output_type": "stream",
     "text": [
      "Get item list, loop on every doc: 100%|██████████| 38874/38874 [00:00<00:00, 1164363.93it/s]\n",
      "Get item list, loop on every doc: 100%|██████████| 40946/40946 [00:00<00:00, 1296914.20it/s]\n",
      "Get item list, loop on every doc: 100%|██████████| 42302/42302 [00:00<00:00, 1219306.93it/s]\n",
      "Get item list, loop on every doc: 100%|██████████| 44803/44803 [00:00<00:00, 1312364.01it/s]\n",
      "Get item list, loop on every doc: 100%|██████████| 46779/46779 [00:00<00:00, 1257492.82it/s]\n",
      "Get item list, loop on every doc: 100%|██████████| 49872/49872 [00:00<00:00, 1260300.22it/s]\n",
      "Get item list, loop on every doc: 100%|██████████| 52046/52046 [00:00<00:00, 1181956.60it/s]\n",
      "Get item list, loop on every doc: 100%|██████████| 54721/54721 [00:00<00:00, 1251883.19it/s]\n",
      "Get item list, loop on every doc: 100%|██████████| 58439/58439 [00:00<00:00, 1232580.37it/s]\n",
      "Get item list, loop on every doc: 100%|██████████| 62241/62241 [00:00<00:00, 1131452.08it/s]\n",
      "Get item list, loop on every doc: 100%|██████████| 67361/67361 [00:00<00:00, 1174996.10it/s]\n",
      "Get item list, loop on every doc: 100%|██████████| 70501/70501 [00:00<00:00, 1140168.21it/s]\n",
      "Get item list, loop on every doc: 100%|██████████| 75717/75717 [00:00<00:00, 1115686.34it/s]\n",
      "Get item list, loop on every doc: 100%|██████████| 81228/81228 [00:00<00:00, 1127412.13it/s]\n",
      "Get item list, loop on every doc: 100%|██████████| 84496/84496 [00:00<00:00, 1156996.50it/s]\n",
      "Get item list, loop on every doc: 100%|██████████| 89168/89168 [00:00<00:00, 1146655.36it/s]\n",
      "Get item list, loop on every doc: 100%|██████████| 93185/93185 [00:00<00:00, 1113420.48it/s]\n",
      "Get item list, loop on every doc: 100%|██████████| 100470/100470 [00:00<00:00, 1076696.35it/s]\n",
      "Get item list, loop on every doc: 100%|██████████| 103192/103192 [00:00<00:00, 1019680.35it/s]\n",
      "Get item list, loop on every doc: 100%|██████████| 106454/106454 [00:00<00:00, 1117676.13it/s]\n",
      "Get item list, loop on every doc: 100%|██████████| 106557/106557 [00:00<00:00, 1108664.15it/s]\n",
      "for every year: 100%|██████████| 21/21 [00:04<00:00,  4.70it/s]\n",
      "Populate matrix: 100%|██████████| 38874/38874 [00:03<00:00, 11695.25it/s]\n",
      "Populate matrix: 100%|██████████| 40946/40946 [00:00<00:00, 66668.96it/s]\n",
      "Populate matrix: 100%|██████████| 42302/42302 [00:00<00:00, 79696.40it/s]\n",
      "Populate matrix: 100%|██████████| 44803/44803 [00:00<00:00, 69992.81it/s]\n",
      "Populate matrix: 100%|██████████| 46779/46779 [00:00<00:00, 60531.48it/s]\n",
      "Populate matrix: 100%|██████████| 49872/49872 [00:00<00:00, 62477.98it/s]\n",
      "Populate matrix: 100%|██████████| 52046/52046 [00:00<00:00, 61432.51it/s]\n",
      "Populate matrix: 100%|██████████| 54721/54721 [00:00<00:00, 57014.79it/s]\n",
      "Populate matrix: 100%|██████████| 58439/58439 [00:00<00:00, 59622.25it/s]\n",
      "Populate matrix: 100%|██████████| 62241/62241 [00:01<00:00, 53793.32it/s]\n",
      "Populate matrix: 100%|██████████| 67361/67361 [00:01<00:00, 35158.45it/s]\n",
      "Populate matrix: 100%|██████████| 70501/70501 [00:01<00:00, 67393.14it/s]\n",
      "Populate matrix: 100%|██████████| 75717/75717 [00:01<00:00, 71443.54it/s]\n",
      "Populate matrix: 100%|██████████| 81228/81228 [00:01<00:00, 72889.64it/s]\n",
      "Populate matrix: 100%|██████████| 84496/84496 [00:01<00:00, 72944.99it/s]\n",
      "Populate matrix: 100%|██████████| 89168/89168 [00:01<00:00, 68176.06it/s]\n",
      "Populate matrix: 100%|██████████| 93185/93185 [00:01<00:00, 74924.91it/s]\n",
      "Populate matrix: 100%|██████████| 100470/100470 [00:01<00:00, 57635.25it/s]\n",
      "Populate matrix: 100%|██████████| 103192/103192 [00:01<00:00, 71061.96it/s]\n",
      "Populate matrix: 100%|██████████| 106454/106454 [00:01<00:00, 79395.89it/s]\n",
      "Populate matrix: 100%|██████████| 106557/106557 [00:01<00:00, 75019.39it/s]\n",
      "For each year in range: 100%|██████████| 21/21 [00:29<00:00,  1.40s/it]\n",
      "Get item list, loop on every doc: 100%|██████████| 38874/38874 [00:00<00:00, 1021868.72it/s]\n",
      "Get item list, loop on every doc: 100%|██████████| 40946/40946 [00:00<00:00, 1281985.99it/s]\n",
      "Get item list, loop on every doc: 100%|██████████| 42302/42302 [00:00<00:00, 1170705.53it/s]\n",
      "Get item list, loop on every doc: 100%|██████████| 44803/44803 [00:00<00:00, 1194036.10it/s]\n",
      "Get item list, loop on every doc: 100%|██████████| 46779/46779 [00:00<00:00, 1115963.46it/s]\n",
      "Get item list, loop on every doc: 100%|██████████| 49872/49872 [00:00<00:00, 1178403.07it/s]\n",
      "Get item list, loop on every doc: 100%|██████████| 52046/52046 [00:00<00:00, 1121725.45it/s]\n",
      "Get item list, loop on every doc: 100%|██████████| 54721/54721 [00:00<00:00, 1259142.58it/s]\n",
      "Get item list, loop on every doc: 100%|██████████| 58439/58439 [00:00<00:00, 1129439.37it/s]\n",
      "Get item list, loop on every doc: 100%|██████████| 62241/62241 [00:00<00:00, 1151774.16it/s]\n",
      "Get item list, loop on every doc: 100%|██████████| 67361/67361 [00:00<00:00, 1149197.53it/s]\n",
      "Get item list, loop on every doc: 100%|██████████| 70501/70501 [00:00<00:00, 1149493.58it/s]\n",
      "Get item list, loop on every doc: 100%|██████████| 75717/75717 [00:00<00:00, 1145733.41it/s]\n",
      "Get item list, loop on every doc: 100%|██████████| 81228/81228 [00:00<00:00, 1218055.25it/s]\n",
      "Get item list, loop on every doc: 100%|██████████| 84496/84496 [00:00<00:00, 1083957.01it/s]\n",
      "Get item list, loop on every doc: 100%|██████████| 89168/89168 [00:00<00:00, 1110975.55it/s]\n",
      "Get item list, loop on every doc: 100%|██████████| 93185/93185 [00:00<00:00, 1078744.02it/s]\n",
      "Get item list, loop on every doc: 100%|██████████| 100470/100470 [00:00<00:00, 1008258.70it/s]\n",
      "Get item list, loop on every doc: 100%|██████████| 103192/103192 [00:00<00:00, 1051768.75it/s]\n",
      "Get item list, loop on every doc: 100%|██████████| 106454/106454 [00:00<00:00, 1097872.71it/s]\n",
      "Get item list, loop on every doc: 100%|██████████| 106557/106557 [00:00<00:00, 997828.67it/s]\n",
      "for every year: 100%|██████████| 21/21 [00:04<00:00,  4.71it/s]\n",
      "Populate matrix: 100%|██████████| 38874/38874 [00:01<00:00, 34600.48it/s]\n",
      "Populate matrix: 100%|██████████| 40946/40946 [00:00<00:00, 107407.16it/s]\n",
      "Populate matrix: 100%|██████████| 42302/42302 [00:00<00:00, 113792.80it/s]\n",
      "Populate matrix: 100%|██████████| 44803/44803 [00:00<00:00, 102780.84it/s]\n",
      "Populate matrix: 100%|██████████| 46779/46779 [00:00<00:00, 94461.60it/s]\n",
      "Populate matrix: 100%|██████████| 49872/49872 [00:00<00:00, 90760.69it/s]\n",
      "Populate matrix: 100%|██████████| 52046/52046 [00:00<00:00, 88666.28it/s]\n",
      "Populate matrix: 100%|██████████| 54721/54721 [00:00<00:00, 89574.76it/s]\n",
      "Populate matrix: 100%|██████████| 58439/58439 [00:00<00:00, 83512.53it/s]\n",
      "Populate matrix: 100%|██████████| 62241/62241 [00:00<00:00, 84180.27it/s]\n",
      "Populate matrix: 100%|██████████| 67361/67361 [00:00<00:00, 70387.04it/s]\n",
      "Populate matrix: 100%|██████████| 70501/70501 [00:00<00:00, 91457.09it/s]\n",
      "Populate matrix: 100%|██████████| 75717/75717 [00:00<00:00, 95053.47it/s]\n",
      "Populate matrix: 100%|██████████| 81228/81228 [00:00<00:00, 88371.20it/s]\n",
      "Populate matrix: 100%|██████████| 84496/84496 [00:00<00:00, 94940.48it/s]\n",
      "Populate matrix: 100%|██████████| 89168/89168 [00:01<00:00, 76863.48it/s]\n",
      "Populate matrix: 100%|██████████| 93185/93185 [00:00<00:00, 95756.35it/s]\n",
      "Populate matrix: 100%|██████████| 100470/100470 [00:01<00:00, 85340.91it/s]\n",
      "Populate matrix: 100%|██████████| 103192/103192 [00:01<00:00, 95825.19it/s]\n",
      "Populate matrix: 100%|██████████| 106454/106454 [00:01<00:00, 96200.49it/s]\n",
      "Populate matrix: 100%|██████████| 106557/106557 [00:01<00:00, 94622.98it/s]\n",
      "For each year in range: 100%|██████████| 21/21 [00:22<00:00,  1.08s/it]\n",
      "Get item list, loop on every doc: 100%|██████████| 38874/38874 [00:00<00:00, 345163.51it/s]\n",
      "Get item list, loop on every doc: 100%|██████████| 40946/40946 [00:00<00:00, 321254.89it/s]\n",
      "Get item list, loop on every doc: 100%|██████████| 42302/42302 [00:00<00:00, 303928.62it/s]\n",
      "Get item list, loop on every doc: 100%|██████████| 44803/44803 [00:00<00:00, 296188.99it/s]\n",
      "Get item list, loop on every doc: 100%|██████████| 46779/46779 [00:00<00:00, 287566.74it/s]\n",
      "Get item list, loop on every doc: 100%|██████████| 49872/49872 [00:00<00:00, 303278.75it/s]\n",
      "Get item list, loop on every doc: 100%|██████████| 52046/52046 [00:00<00:00, 284114.40it/s]\n",
      "Get item list, loop on every doc: 100%|██████████| 54721/54721 [00:00<00:00, 286851.53it/s]\n",
      "Get item list, loop on every doc: 100%|██████████| 58439/58439 [00:00<00:00, 288015.10it/s]\n",
      "Get item list, loop on every doc: 100%|██████████| 62241/62241 [00:00<00:00, 239400.76it/s]\n",
      "Get item list, loop on every doc: 100%|██████████| 67361/67361 [00:00<00:00, 254128.33it/s]\n",
      "Get item list, loop on every doc: 100%|██████████| 70501/70501 [00:00<00:00, 270111.21it/s]\n",
      "Get item list, loop on every doc: 100%|██████████| 75717/75717 [00:00<00:00, 280837.08it/s]\n",
      "Get item list, loop on every doc: 100%|██████████| 81228/81228 [00:00<00:00, 282153.21it/s]\n",
      "Get item list, loop on every doc: 100%|██████████| 84496/84496 [00:00<00:00, 275775.76it/s]\n",
      "Get item list, loop on every doc: 100%|██████████| 89168/89168 [00:00<00:00, 291051.74it/s]\n",
      "Get item list, loop on every doc: 100%|██████████| 93185/93185 [00:00<00:00, 250704.76it/s]\n",
      "Get item list, loop on every doc: 100%|██████████| 100470/100470 [00:00<00:00, 252919.89it/s]\n",
      "Get item list, loop on every doc: 100%|██████████| 103192/103192 [00:00<00:00, 248886.37it/s]\n",
      "Get item list, loop on every doc: 100%|██████████| 106454/106454 [00:00<00:00, 282228.14it/s]\n",
      "Get item list, loop on every doc: 100%|██████████| 106557/106557 [00:00<00:00, 247640.25it/s]\n",
      "for every year: 100%|██████████| 21/21 [00:32<00:00,  1.54s/it]\n",
      "Populate matrix: 100%|██████████| 38874/38874 [00:36<00:00, 1060.77it/s]\n",
      "Populate matrix: 100%|██████████| 40946/40946 [00:38<00:00, 1063.87it/s]\n",
      "Populate matrix: 100%|██████████| 42302/42302 [00:40<00:00, 1043.01it/s]\n",
      "Populate matrix: 100%|██████████| 44803/44803 [00:43<00:00, 1032.71it/s]\n",
      "Populate matrix: 100%|██████████| 46779/46779 [00:45<00:00, 1018.33it/s]\n",
      "Populate matrix: 100%|██████████| 49872/49872 [00:50<00:00, 993.13it/s] \n",
      "Populate matrix: 100%|██████████| 52046/52046 [00:53<00:00, 972.92it/s]\n",
      "Populate matrix: 100%|██████████| 54721/54721 [00:54<00:00, 1000.27it/s]\n",
      "Populate matrix: 100%|██████████| 58439/58439 [01:00<00:00, 970.88it/s]\n",
      "Populate matrix: 100%|██████████| 62241/62241 [01:03<00:00, 980.36it/s]\n",
      "Populate matrix: 100%|██████████| 67361/67361 [01:06<00:00, 1009.93it/s]\n",
      "Populate matrix: 100%|██████████| 70501/70501 [01:05<00:00, 1069.84it/s]\n",
      "Populate matrix: 100%|██████████| 75717/75717 [01:10<00:00, 1066.89it/s]\n",
      "Populate matrix: 100%|██████████| 81228/81228 [01:16<00:00, 1057.54it/s]\n",
      "Populate matrix: 100%|██████████| 84496/84496 [01:20<00:00, 1047.72it/s]\n",
      "Populate matrix: 100%|██████████| 89168/89168 [01:25<00:00, 1048.58it/s]\n",
      "Populate matrix: 100%|██████████| 93185/93185 [01:29<00:00, 1045.94it/s]\n",
      "Populate matrix: 100%|██████████| 100470/100470 [01:38<00:00, 1023.74it/s]\n",
      "Populate matrix: 100%|██████████| 103192/103192 [01:39<00:00, 1034.96it/s]\n",
      "Populate matrix: 100%|██████████| 106454/106454 [01:38<00:00, 1080.69it/s]\n",
      "Populate matrix: 100%|██████████| 106557/106557 [01:37<00:00, 1095.85it/s]\n",
      "For each year in range: 100%|██████████| 21/21 [24:12<00:00, 69.15s/it]\n",
      "Get item list, loop on every doc: 100%|██████████| 38874/38874 [00:00<00:00, 335097.45it/s]\n",
      "Get item list, loop on every doc: 100%|██████████| 40946/40946 [00:00<00:00, 320975.70it/s]\n",
      "Get item list, loop on every doc: 100%|██████████| 42302/42302 [00:00<00:00, 301781.23it/s]\n",
      "Get item list, loop on every doc: 100%|██████████| 44803/44803 [00:00<00:00, 300080.65it/s]\n",
      "Get item list, loop on every doc: 100%|██████████| 46779/46779 [00:00<00:00, 304728.20it/s]\n",
      "Get item list, loop on every doc: 100%|██████████| 49872/49872 [00:00<00:00, 303469.26it/s]\n",
      "Get item list, loop on every doc: 100%|██████████| 52046/52046 [00:00<00:00, 288228.85it/s]\n",
      "Get item list, loop on every doc: 100%|██████████| 54721/54721 [00:00<00:00, 289307.38it/s]\n",
      "Get item list, loop on every doc: 100%|██████████| 58439/58439 [00:00<00:00, 290963.59it/s]\n",
      "Get item list, loop on every doc: 100%|██████████| 62241/62241 [00:00<00:00, 246623.77it/s]\n",
      "Get item list, loop on every doc: 100%|██████████| 67361/67361 [00:00<00:00, 267766.02it/s]\n",
      "Get item list, loop on every doc: 100%|██████████| 70501/70501 [00:00<00:00, 272253.94it/s]\n",
      "Get item list, loop on every doc: 100%|██████████| 75717/75717 [00:00<00:00, 290011.35it/s]\n",
      "Get item list, loop on every doc: 100%|██████████| 81228/81228 [00:00<00:00, 280295.23it/s]\n",
      "Get item list, loop on every doc: 100%|██████████| 84496/84496 [00:00<00:00, 272129.74it/s]\n",
      "Get item list, loop on every doc: 100%|██████████| 89168/89168 [00:00<00:00, 292685.33it/s]\n",
      "Get item list, loop on every doc: 100%|██████████| 93185/93185 [00:00<00:00, 272463.16it/s]\n",
      "Get item list, loop on every doc: 100%|██████████| 100470/100470 [00:00<00:00, 272731.80it/s]\n",
      "Get item list, loop on every doc: 100%|██████████| 103192/103192 [00:00<00:00, 266354.67it/s]\n",
      "Get item list, loop on every doc: 100%|██████████| 106454/106454 [00:00<00:00, 284555.59it/s]\n",
      "Get item list, loop on every doc: 100%|██████████| 106557/106557 [00:00<00:00, 282176.24it/s]\n",
      "for every year: 100%|██████████| 21/21 [00:31<00:00,  1.51s/it]\n",
      "Populate matrix: 100%|██████████| 38874/38874 [00:36<00:00, 1062.55it/s]\n",
      "Populate matrix: 100%|██████████| 40946/40946 [00:39<00:00, 1047.13it/s]\n",
      "Populate matrix: 100%|██████████| 42302/42302 [00:41<00:00, 1026.70it/s]\n",
      "Populate matrix: 100%|██████████| 44803/44803 [00:44<00:00, 1017.95it/s]\n",
      "Populate matrix: 100%|██████████| 46779/46779 [00:46<00:00, 1008.36it/s]\n",
      "Populate matrix: 100%|██████████| 49872/49872 [00:50<00:00, 978.85it/s] \n",
      "Populate matrix: 100%|██████████| 52046/52046 [00:54<00:00, 959.28it/s]\n",
      "Populate matrix: 100%|██████████| 54721/54721 [00:55<00:00, 986.58it/s]\n",
      "Populate matrix: 100%|██████████| 58439/58439 [01:00<00:00, 964.75it/s]\n",
      "Populate matrix: 100%|██████████| 62241/62241 [01:04<00:00, 968.94it/s]\n",
      "Populate matrix: 100%|██████████| 67361/67361 [01:07<00:00, 999.29it/s] \n",
      "Populate matrix: 100%|██████████| 70501/70501 [01:06<00:00, 1056.96it/s]\n",
      "Populate matrix: 100%|██████████| 75717/75717 [01:13<00:00, 1035.40it/s]\n",
      "Populate matrix: 100%|██████████| 81228/81228 [01:18<00:00, 1040.04it/s]\n",
      "Populate matrix: 100%|██████████| 84496/84496 [01:22<00:00, 1027.12it/s]\n",
      "Populate matrix: 100%|██████████| 89168/89168 [01:26<00:00, 1034.37it/s]\n",
      "Populate matrix: 100%|██████████| 93185/93185 [01:29<00:00, 1036.27it/s]\n",
      "Populate matrix: 100%|██████████| 100470/100470 [01:39<00:00, 1014.52it/s]\n",
      "Populate matrix: 100%|██████████| 103192/103192 [01:45<00:00, 978.81it/s] \n",
      "Populate matrix: 100%|██████████| 106454/106454 [01:50<00:00, 962.18it/s]\n",
      "Populate matrix: 100%|██████████| 106557/106557 [01:49<00:00, 976.25it/s]\n",
      "For each year in range: 100%|██████████| 21/21 [25:01<00:00, 71.50s/it] \n"
     ]
    }
   ],
   "source": [
    "import novelpy\n",
    "\n",
    "# all the cooc possible not including the one done above\n",
    "\n",
    "ref_cooc = novelpy.utils.cooc_utils.create_cooc(\n",
    "                 collection_name = \"Ref_Journals_sample\",\n",
    "                 year_var=\"year\",\n",
    "                 var = \"c04_referencelist\",\n",
    "                 sub_var = \"item\",\n",
    "                 time_window = range(1995,2016),\n",
    "                 weighted_network = True, self_loop = True)\n",
    "\n",
    "ref_cooc.main()\n",
    "\n",
    "ref_cooc = novelpy.utils.cooc_utils.create_cooc(\n",
    "                 collection_name = \"Ref_Journals_sample\",\n",
    "                 year_var=\"year\",\n",
    "                 var = \"c04_referencelist\",\n",
    "                 sub_var = \"item\",\n",
    "                 time_window = range(1995,2016),\n",
    "                 weighted_network = False, self_loop = False)\n",
    "\n",
    "ref_cooc.main()\n",
    "\n",
    "ref_cooc = novelpy.utils.cooc_utils.create_cooc(\n",
    "                 collection_name = \"Meshterms_sample\",\n",
    "                 year_var=\"year\",\n",
    "                 var = \"Mesh_year_category\",\n",
    "                 sub_var = \"descUI\",\n",
    "                 time_window = range(1995,2016),\n",
    "                 weighted_network = True, self_loop = True)\n",
    "\n",
    "ref_cooc.main()\n",
    "\n",
    "ref_cooc = novelpy.utils.cooc_utils.create_cooc(\n",
    "                 collection_name = \"Meshterms_sample\",\n",
    "                 year_var=\"year\",\n",
    "                 var = \"Mesh_year_category\",\n",
    "                 sub_var = \"descUI\",\n",
    "                 time_window = range(1995,2016),\n",
    "                 weighted_network = False, self_loop = False)\n",
    "\n",
    "ref_cooc.main()\n"
   ]
  },
  {
   "cell_type": "code",
   "execution_count": null,
   "metadata": {},
   "outputs": [],
   "source": [
    "import tqdm\n",
    "import novelpy\n",
    "\n",
    "# Uzzi et al.(2013) Meshterms_sample\n",
    "for focal_year in tqdm.tqdm(range(2009,2011), desc = \"Computing indicator for window of time\"):\n",
    "    Uzzi = novelpy.indicators.Uzzi2013(collection_name = \"Meshterms_sample\",\n",
    "                                           id_variable = 'PMID',\n",
    "                                           year_variable = 'year',\n",
    "                                           variable = \"Mesh_year_category\",\n",
    "                                           sub_variable = \"descUI\",\n",
    "                                           focal_year = focal_year,\n",
    "                                           density = True)\n",
    "    Uzzi.get_indicator()"
   ]
  },
  {
   "cell_type": "code",
   "execution_count": null,
   "metadata": {},
   "outputs": [],
   "source": [
    "import tqdm\n",
    "import novelpy\n",
    "\n",
    "\n",
    "# Uzzi et al.(2013) Ref_Journals_sample\n",
    "for focal_year in tqdm.tqdm(range(2000,2011), desc = \"Computing indicator for window of time\"):\n",
    "    Uzzi = novelpy.indicators.Uzzi2013(collection_name = \"Ref_Journals_sample\",\n",
    "                                           id_variable = 'PMID',\n",
    "                                           year_variable = 'year',\n",
    "                                           variable = \"c04_referencelist\",\n",
    "                                           sub_variable = \"item\",\n",
    "                                           focal_year = focal_year,\n",
    "                                           density = True)\n",
    "    Uzzi.get_indicator()"
   ]
  },
  {
   "cell_type": "code",
   "execution_count": null,
   "metadata": {},
   "outputs": [],
   "source": [
    "import tqdm\n",
    "import novelpy\n",
    "\n",
    "\n",
    "\n",
    "\n",
    "# Foster et al.(2015) Meshterms_sample\n",
    "for focal_year in tqdm.tqdm(range(2000,2011), desc = \"Computing indicator for window of time\"):\n",
    "    Foster = novelpy.indicators.Foster2015(collection_name = \"Meshterms_sample\",\n",
    "                                           id_variable = 'PMID',\n",
    "                                           year_variable = 'year',\n",
    "                                           variable = \"Mesh_year_category\",\n",
    "                                           sub_variable = \"descUI\",\n",
    "                                           focal_year = focal_year,\n",
    "                                           starting_year = 1995,\n",
    "                                           community_algorithm = \"Louvain\",\n",
    "                                           density = True)\n",
    "    Foster.get_indicator()\n"
   ]
  },
  {
   "cell_type": "code",
   "execution_count": null,
   "metadata": {},
   "outputs": [],
   "source": [
    "import tqdm\n",
    "import novelpy\n",
    "\n",
    "for focal_year in tqdm.tqdm(range(2000,2011), desc = \"Computing indicator for window of time\"):\n",
    "    Foster = novelpy.indicators.Foster2015(collection_name = \"Ref_Journals_sample\",\n",
    "                                           id_variable = 'PMID',\n",
    "                                           year_variable = 'year',\n",
    "                                           variable = \"c04_referencelist\",\n",
    "                                           sub_variable = \"item\",\n",
    "                                           focal_year = focal_year,\n",
    "                                           starting_year = 1995,\n",
    "                                           community_algorithm = \"Louvain\",\n",
    "                                           density = True)\n",
    "    Foster.get_indicator()"
   ]
  },
  {
   "cell_type": "code",
   "execution_count": 1,
   "metadata": {},
   "outputs": [
    {
     "name": "stderr",
     "output_type": "stream",
     "text": [
      "Computing indicator for window of time:   0%|          | 0/11 [00:00<?, ?it/s]"
     ]
    },
    {
     "name": "stdout",
     "output_type": "stream",
     "text": [
      "loading cooc for focal year 2000\n",
      "cooc loaded !\n",
      "loading items for papers in 2000\n"
     ]
    },
    {
     "name": "stderr",
     "output_type": "stream",
     "text": [
      "get_papers_item: 100%|██████████| 49872/49872 [00:00<00:00, 53323.68it/s]\n"
     ]
    },
    {
     "name": "stdout",
     "output_type": "stream",
     "text": [
      "items_loaded !\n",
      "Getting score per year ...\n",
      "comb_scores\n"
     ]
    },
    {
     "name": "stderr",
     "output_type": "stream",
     "text": [
      "d:\\anaconda3\\envs\\novelty\\Lib\\site-packages\\scipy\\sparse\\_base.py:713: RuntimeWarning: divide by zero encountered in divide\n",
      "  recip = np.true_divide(1., other)\n"
     ]
    },
    {
     "name": "stdout",
     "output_type": "stream",
     "text": [
      "pickle dump\n",
      "Matrice done !\n",
      "Getting score per paper ...\n"
     ]
    },
    {
     "name": "stderr",
     "output_type": "stream",
     "text": [
      "start: 100%|██████████| 49872/49872 [01:52<00:00, 443.41it/s]\n",
      "Computing indicator for window of time:   9%|▉         | 1/11 [02:08<21:22, 128.21s/it]"
     ]
    },
    {
     "name": "stdout",
     "output_type": "stream",
     "text": [
      "saved\n",
      "Done !\n",
      "loading cooc for focal year 2001\n",
      "cooc loaded !\n",
      "loading items for papers in 2001\n"
     ]
    },
    {
     "name": "stderr",
     "output_type": "stream",
     "text": [
      "get_papers_item: 100%|██████████| 52046/52046 [00:01<00:00, 42818.89it/s]\n"
     ]
    },
    {
     "name": "stdout",
     "output_type": "stream",
     "text": [
      "items_loaded !\n",
      "Getting score per year ...\n",
      "comb_scores\n",
      "pickle dump\n",
      "Matrice done !\n",
      "Getting score per paper ...\n"
     ]
    },
    {
     "name": "stderr",
     "output_type": "stream",
     "text": [
      "start: 100%|██████████| 52046/52046 [01:57<00:00, 441.42it/s]\n",
      "Computing indicator for window of time:  18%|█▊        | 2/11 [04:24<19:55, 132.82s/it]"
     ]
    },
    {
     "name": "stdout",
     "output_type": "stream",
     "text": [
      "saved\n",
      "Done !\n",
      "loading cooc for focal year 2002\n",
      "cooc loaded !\n",
      "loading items for papers in 2002\n"
     ]
    },
    {
     "name": "stderr",
     "output_type": "stream",
     "text": [
      "get_papers_item: 100%|██████████| 54721/54721 [00:01<00:00, 43166.12it/s]\n"
     ]
    },
    {
     "name": "stdout",
     "output_type": "stream",
     "text": [
      "items_loaded !\n",
      "Getting score per year ...\n",
      "comb_scores\n",
      "pickle dump\n",
      "Matrice done !\n",
      "Getting score per paper ...\n"
     ]
    },
    {
     "name": "stderr",
     "output_type": "stream",
     "text": [
      "start: 100%|██████████| 54721/54721 [02:01<00:00, 451.70it/s]\n",
      "Computing indicator for window of time:  27%|██▋       | 3/11 [06:43<18:06, 135.87s/it]"
     ]
    },
    {
     "name": "stdout",
     "output_type": "stream",
     "text": [
      "saved\n",
      "Done !\n",
      "loading cooc for focal year 2003\n",
      "cooc loaded !\n",
      "loading items for papers in 2003\n"
     ]
    },
    {
     "name": "stderr",
     "output_type": "stream",
     "text": [
      "get_papers_item: 100%|██████████| 58439/58439 [00:01<00:00, 47592.20it/s]\n"
     ]
    },
    {
     "name": "stdout",
     "output_type": "stream",
     "text": [
      "items_loaded !\n",
      "Getting score per year ...\n",
      "comb_scores\n",
      "pickle dump\n",
      "Matrice done !\n",
      "Getting score per paper ...\n"
     ]
    },
    {
     "name": "stderr",
     "output_type": "stream",
     "text": [
      "start: 100%|██████████| 58439/58439 [02:15<00:00, 430.32it/s]\n",
      "Computing indicator for window of time:  36%|███▋      | 4/11 [09:18<16:42, 143.27s/it]"
     ]
    },
    {
     "name": "stdout",
     "output_type": "stream",
     "text": [
      "saved\n",
      "Done !\n",
      "loading cooc for focal year 2004\n",
      "cooc loaded !\n",
      "loading items for papers in 2004\n"
     ]
    },
    {
     "name": "stderr",
     "output_type": "stream",
     "text": [
      "get_papers_item: 100%|██████████| 62241/62241 [00:01<00:00, 42111.46it/s]\n"
     ]
    },
    {
     "name": "stdout",
     "output_type": "stream",
     "text": [
      "items_loaded !\n",
      "Getting score per year ...\n",
      "comb_scores\n",
      "pickle dump\n",
      "Matrice done !\n",
      "Getting score per paper ...\n"
     ]
    },
    {
     "name": "stderr",
     "output_type": "stream",
     "text": [
      "start: 100%|██████████| 62241/62241 [02:24<00:00, 432.01it/s]\n",
      "Computing indicator for window of time:  45%|████▌     | 5/11 [12:02<15:04, 150.82s/it]"
     ]
    },
    {
     "name": "stdout",
     "output_type": "stream",
     "text": [
      "saved\n",
      "Done !\n",
      "loading cooc for focal year 2005\n",
      "cooc loaded !\n",
      "loading items for papers in 2005\n"
     ]
    },
    {
     "name": "stderr",
     "output_type": "stream",
     "text": [
      "get_papers_item: 100%|██████████| 67361/67361 [00:01<00:00, 66996.55it/s]\n"
     ]
    },
    {
     "name": "stdout",
     "output_type": "stream",
     "text": [
      "items_loaded !\n",
      "Getting score per year ...\n",
      "comb_scores\n",
      "pickle dump\n",
      "Matrice done !\n",
      "Getting score per paper ...\n"
     ]
    },
    {
     "name": "stderr",
     "output_type": "stream",
     "text": [
      "start: 100%|██████████| 67361/67361 [02:31<00:00, 443.36it/s]\n",
      "Computing indicator for window of time:  55%|█████▍    | 6/11 [14:56<13:12, 158.54s/it]"
     ]
    },
    {
     "name": "stdout",
     "output_type": "stream",
     "text": [
      "saved\n",
      "Done !\n",
      "loading cooc for focal year 2006\n",
      "cooc loaded !\n",
      "loading items for papers in 2006\n"
     ]
    },
    {
     "name": "stderr",
     "output_type": "stream",
     "text": [
      "get_papers_item: 100%|██████████| 70501/70501 [00:01<00:00, 43465.62it/s]\n"
     ]
    },
    {
     "name": "stdout",
     "output_type": "stream",
     "text": [
      "items_loaded !\n",
      "Getting score per year ...\n",
      "comb_scores\n",
      "pickle dump\n",
      "Matrice done !\n",
      "Getting score per paper ...\n"
     ]
    },
    {
     "name": "stderr",
     "output_type": "stream",
     "text": [
      "start: 100%|██████████| 70501/70501 [02:29<00:00, 471.94it/s]\n",
      "Computing indicator for window of time:  64%|██████▎   | 7/11 [17:46<10:49, 162.26s/it]"
     ]
    },
    {
     "name": "stdout",
     "output_type": "stream",
     "text": [
      "saved\n",
      "Done !\n",
      "loading cooc for focal year 2007\n",
      "cooc loaded !\n",
      "loading items for papers in 2007\n"
     ]
    },
    {
     "name": "stderr",
     "output_type": "stream",
     "text": [
      "get_papers_item: 100%|██████████| 75717/75717 [00:01<00:00, 50012.35it/s]\n"
     ]
    },
    {
     "name": "stdout",
     "output_type": "stream",
     "text": [
      "items_loaded !\n",
      "Getting score per year ...\n",
      "comb_scores\n",
      "pickle dump\n",
      "Matrice done !\n",
      "Getting score per paper ...\n"
     ]
    },
    {
     "name": "stderr",
     "output_type": "stream",
     "text": [
      "start: 100%|██████████| 75717/75717 [02:36<00:00, 482.69it/s]\n",
      "Computing indicator for window of time:  73%|███████▎  | 8/11 [20:43<08:21, 167.24s/it]"
     ]
    },
    {
     "name": "stdout",
     "output_type": "stream",
     "text": [
      "saved\n",
      "Done !\n",
      "loading cooc for focal year 2008\n",
      "cooc loaded !\n",
      "loading items for papers in 2008\n"
     ]
    },
    {
     "name": "stderr",
     "output_type": "stream",
     "text": [
      "get_papers_item: 100%|██████████| 81228/81228 [00:01<00:00, 50687.74it/s]\n"
     ]
    },
    {
     "name": "stdout",
     "output_type": "stream",
     "text": [
      "items_loaded !\n",
      "Getting score per year ...\n",
      "comb_scores\n",
      "pickle dump\n",
      "Matrice done !\n",
      "Getting score per paper ...\n"
     ]
    },
    {
     "name": "stderr",
     "output_type": "stream",
     "text": [
      "start: 100%|██████████| 81228/81228 [02:48<00:00, 481.42it/s]\n",
      "Computing indicator for window of time:  82%|████████▏ | 9/11 [23:55<05:49, 174.85s/it]"
     ]
    },
    {
     "name": "stdout",
     "output_type": "stream",
     "text": [
      "saved\n",
      "Done !\n",
      "loading cooc for focal year 2009\n",
      "cooc loaded !\n",
      "loading items for papers in 2009\n"
     ]
    },
    {
     "name": "stderr",
     "output_type": "stream",
     "text": [
      "get_papers_item: 100%|██████████| 84496/84496 [00:01<00:00, 50581.36it/s]\n"
     ]
    },
    {
     "name": "stdout",
     "output_type": "stream",
     "text": [
      "items_loaded !\n",
      "Getting score per year ...\n",
      "comb_scores\n",
      "pickle dump\n",
      "Matrice done !\n",
      "Getting score per paper ...\n"
     ]
    },
    {
     "name": "stderr",
     "output_type": "stream",
     "text": [
      "start: 100%|██████████| 84496/84496 [02:59<00:00, 471.64it/s]\n",
      "Computing indicator for window of time:  91%|█████████ | 10/11 [27:17<03:03, 183.20s/it]"
     ]
    },
    {
     "name": "stdout",
     "output_type": "stream",
     "text": [
      "saved\n",
      "Done !\n",
      "loading cooc for focal year 2010\n",
      "cooc loaded !\n",
      "loading items for papers in 2010\n"
     ]
    },
    {
     "name": "stderr",
     "output_type": "stream",
     "text": [
      "get_papers_item: 100%|██████████| 89168/89168 [00:01<00:00, 51556.36it/s]\n"
     ]
    },
    {
     "name": "stdout",
     "output_type": "stream",
     "text": [
      "items_loaded !\n",
      "Getting score per year ...\n",
      "comb_scores\n",
      "pickle dump\n",
      "Matrice done !\n",
      "Getting score per paper ...\n"
     ]
    },
    {
     "name": "stderr",
     "output_type": "stream",
     "text": [
      "start: 100%|██████████| 89168/89168 [03:09<00:00, 470.51it/s]\n",
      "Computing indicator for window of time: 100%|██████████| 11/11 [30:50<00:00, 168.24s/it]"
     ]
    },
    {
     "name": "stdout",
     "output_type": "stream",
     "text": [
      "saved\n",
      "Done !\n"
     ]
    },
    {
     "name": "stderr",
     "output_type": "stream",
     "text": [
      "\n"
     ]
    }
   ],
   "source": [
    "import tqdm\n",
    "import novelpy\n",
    "\n",
    "# Lee et al.(2015) Meshterms_sample\n",
    "for focal_year in tqdm.tqdm(range(2000,2011), desc = \"Computing indicator for window of time\"):\n",
    "    Lee = novelpy.indicators.Lee2015(collection_name = \"Meshterms_sample\",\n",
    "                                           id_variable = 'PMID',\n",
    "                                           year_variable = 'year',\n",
    "                                           variable = \"Mesh_year_category\",\n",
    "                                           sub_variable = \"descUI\",\n",
    "                                           focal_year = focal_year,\n",
    "                                           density = True)\n",
    "    Lee.get_indicator()"
   ]
  },
  {
   "cell_type": "code",
   "execution_count": 2,
   "metadata": {},
   "outputs": [
    {
     "name": "stderr",
     "output_type": "stream",
     "text": [
      "Computing indicator for window of time:   0%|          | 0/11 [00:00<?, ?it/s]"
     ]
    },
    {
     "name": "stdout",
     "output_type": "stream",
     "text": [
      "loading cooc for focal year 2000\n",
      "cooc loaded !\n",
      "loading items for papers in 2000\n"
     ]
    },
    {
     "name": "stderr",
     "output_type": "stream",
     "text": [
      "get_papers_item: 100%|██████████| 49872/49872 [00:00<00:00, 404171.84it/s]\n"
     ]
    },
    {
     "name": "stdout",
     "output_type": "stream",
     "text": [
      "items_loaded !\n",
      "Getting score per year ...\n",
      "comb_scores\n",
      "pickle dump\n",
      "Matrice done !\n",
      "Getting score per paper ...\n"
     ]
    },
    {
     "name": "stderr",
     "output_type": "stream",
     "text": [
      "start: 100%|██████████| 49872/49872 [00:01<00:00, 25918.47it/s]\n",
      "Computing indicator for window of time:   9%|▉         | 1/11 [00:05<00:50,  5.05s/it]"
     ]
    },
    {
     "name": "stdout",
     "output_type": "stream",
     "text": [
      "saved\n",
      "Done !\n",
      "loading cooc for focal year 2001\n",
      "cooc loaded !\n",
      "loading items for papers in 2001\n"
     ]
    },
    {
     "name": "stderr",
     "output_type": "stream",
     "text": [
      "get_papers_item: 100%|██████████| 52046/52046 [00:00<00:00, 182525.42it/s]\n"
     ]
    },
    {
     "name": "stdout",
     "output_type": "stream",
     "text": [
      "items_loaded !\n",
      "Getting score per year ...\n",
      "comb_scores\n",
      "pickle dump\n",
      "Matrice done !\n",
      "Getting score per paper ...\n"
     ]
    },
    {
     "name": "stderr",
     "output_type": "stream",
     "text": [
      "start: 100%|██████████| 52046/52046 [00:02<00:00, 25885.47it/s]\n",
      "Computing indicator for window of time:  18%|█▊        | 2/11 [00:09<00:44,  4.93s/it]"
     ]
    },
    {
     "name": "stdout",
     "output_type": "stream",
     "text": [
      "saved\n",
      "Done !\n",
      "loading cooc for focal year 2002\n",
      "cooc loaded !\n",
      "loading items for papers in 2002\n"
     ]
    },
    {
     "name": "stderr",
     "output_type": "stream",
     "text": [
      "get_papers_item: 100%|██████████| 54721/54721 [00:00<00:00, 211928.17it/s]\n"
     ]
    },
    {
     "name": "stdout",
     "output_type": "stream",
     "text": [
      "items_loaded !\n",
      "Getting score per year ...\n",
      "comb_scores\n",
      "pickle dump\n",
      "Matrice done !\n",
      "Getting score per paper ...\n"
     ]
    },
    {
     "name": "stderr",
     "output_type": "stream",
     "text": [
      "start: 100%|██████████| 54721/54721 [00:02<00:00, 24569.50it/s]\n",
      "Computing indicator for window of time:  27%|██▋       | 3/11 [00:14<00:39,  4.96s/it]"
     ]
    },
    {
     "name": "stdout",
     "output_type": "stream",
     "text": [
      "saved\n",
      "Done !\n",
      "loading cooc for focal year 2003\n",
      "cooc loaded !\n",
      "loading items for papers in 2003\n"
     ]
    },
    {
     "name": "stderr",
     "output_type": "stream",
     "text": [
      "get_papers_item: 100%|██████████| 58439/58439 [00:00<00:00, 218412.22it/s]\n"
     ]
    },
    {
     "name": "stdout",
     "output_type": "stream",
     "text": [
      "items_loaded !\n",
      "Getting score per year ...\n",
      "comb_scores\n",
      "pickle dump\n",
      "Matrice done !\n",
      "Getting score per paper ...\n"
     ]
    },
    {
     "name": "stderr",
     "output_type": "stream",
     "text": [
      "start: 100%|██████████| 58439/58439 [00:02<00:00, 25539.64it/s]\n",
      "Computing indicator for window of time:  36%|███▋      | 4/11 [00:19<00:35,  5.01s/it]"
     ]
    },
    {
     "name": "stdout",
     "output_type": "stream",
     "text": [
      "saved\n",
      "Done !\n",
      "loading cooc for focal year 2004\n",
      "cooc loaded !\n",
      "loading items for papers in 2004\n"
     ]
    },
    {
     "name": "stderr",
     "output_type": "stream",
     "text": [
      "get_papers_item: 100%|██████████| 62241/62241 [00:00<00:00, 196304.19it/s]\n"
     ]
    },
    {
     "name": "stdout",
     "output_type": "stream",
     "text": [
      "items_loaded !\n",
      "Getting score per year ...\n",
      "comb_scores\n",
      "pickle dump\n",
      "Matrice done !\n",
      "Getting score per paper ...\n"
     ]
    },
    {
     "name": "stderr",
     "output_type": "stream",
     "text": [
      "start: 100%|██████████| 62241/62241 [00:02<00:00, 23082.57it/s]\n",
      "Computing indicator for window of time:  45%|████▌     | 5/11 [00:25<00:31,  5.22s/it]"
     ]
    },
    {
     "name": "stdout",
     "output_type": "stream",
     "text": [
      "saved\n",
      "Done !\n",
      "loading cooc for focal year 2005\n",
      "cooc loaded !\n",
      "loading items for papers in 2005\n"
     ]
    },
    {
     "name": "stderr",
     "output_type": "stream",
     "text": [
      "get_papers_item: 100%|██████████| 67361/67361 [00:00<00:00, 226793.84it/s]\n"
     ]
    },
    {
     "name": "stdout",
     "output_type": "stream",
     "text": [
      "items_loaded !\n",
      "Getting score per year ...\n",
      "comb_scores\n",
      "pickle dump\n",
      "Matrice done !\n",
      "Getting score per paper ...\n"
     ]
    },
    {
     "name": "stderr",
     "output_type": "stream",
     "text": [
      "start: 100%|██████████| 67361/67361 [00:04<00:00, 16020.55it/s]\n",
      "Computing indicator for window of time:  55%|█████▍    | 6/11 [00:32<00:29,  5.89s/it]"
     ]
    },
    {
     "name": "stdout",
     "output_type": "stream",
     "text": [
      "saved\n",
      "Done !\n",
      "loading cooc for focal year 2006\n",
      "cooc loaded !\n",
      "loading items for papers in 2006\n"
     ]
    },
    {
     "name": "stderr",
     "output_type": "stream",
     "text": [
      "get_papers_item: 100%|██████████| 70501/70501 [00:00<00:00, 230408.53it/s]\n"
     ]
    },
    {
     "name": "stdout",
     "output_type": "stream",
     "text": [
      "items_loaded !\n",
      "Getting score per year ...\n",
      "comb_scores\n",
      "pickle dump\n",
      "Matrice done !\n",
      "Getting score per paper ...\n"
     ]
    },
    {
     "name": "stderr",
     "output_type": "stream",
     "text": [
      "start: 100%|██████████| 70501/70501 [00:02<00:00, 28607.79it/s]\n",
      "Computing indicator for window of time:  64%|██████▎   | 7/11 [00:38<00:22,  5.74s/it]"
     ]
    },
    {
     "name": "stdout",
     "output_type": "stream",
     "text": [
      "saved\n",
      "Done !\n",
      "loading cooc for focal year 2007\n",
      "cooc loaded !\n",
      "loading items for papers in 2007\n"
     ]
    },
    {
     "name": "stderr",
     "output_type": "stream",
     "text": [
      "get_papers_item: 100%|██████████| 75717/75717 [00:00<00:00, 193529.23it/s]\n"
     ]
    },
    {
     "name": "stdout",
     "output_type": "stream",
     "text": [
      "items_loaded !\n",
      "Getting score per year ...\n",
      "comb_scores\n",
      "pickle dump\n",
      "Matrice done !\n",
      "Getting score per paper ...\n"
     ]
    },
    {
     "name": "stderr",
     "output_type": "stream",
     "text": [
      "start: 100%|██████████| 75717/75717 [00:02<00:00, 29291.18it/s]\n",
      "Computing indicator for window of time:  73%|███████▎  | 8/11 [00:43<00:17,  5.69s/it]"
     ]
    },
    {
     "name": "stdout",
     "output_type": "stream",
     "text": [
      "saved\n",
      "Done !\n",
      "loading cooc for focal year 2008\n",
      "cooc loaded !\n",
      "loading items for papers in 2008\n"
     ]
    },
    {
     "name": "stderr",
     "output_type": "stream",
     "text": [
      "get_papers_item: 100%|██████████| 81228/81228 [00:00<00:00, 239960.31it/s]\n"
     ]
    },
    {
     "name": "stdout",
     "output_type": "stream",
     "text": [
      "items_loaded !\n",
      "Getting score per year ...\n",
      "comb_scores\n",
      "pickle dump\n",
      "Matrice done !\n",
      "Getting score per paper ...\n"
     ]
    },
    {
     "name": "stderr",
     "output_type": "stream",
     "text": [
      "start: 100%|██████████| 81228/81228 [00:02<00:00, 30095.45it/s]\n",
      "Computing indicator for window of time:  82%|████████▏ | 9/11 [00:49<00:11,  5.77s/it]"
     ]
    },
    {
     "name": "stdout",
     "output_type": "stream",
     "text": [
      "saved\n",
      "Done !\n",
      "loading cooc for focal year 2009\n",
      "cooc loaded !\n",
      "loading items for papers in 2009\n"
     ]
    },
    {
     "name": "stderr",
     "output_type": "stream",
     "text": [
      "get_papers_item: 100%|██████████| 84496/84496 [00:00<00:00, 221835.19it/s]\n"
     ]
    },
    {
     "name": "stdout",
     "output_type": "stream",
     "text": [
      "items_loaded !\n",
      "Getting score per year ...\n",
      "comb_scores\n",
      "pickle dump\n",
      "Matrice done !\n",
      "Getting score per paper ...\n"
     ]
    },
    {
     "name": "stderr",
     "output_type": "stream",
     "text": [
      "start: 100%|██████████| 84496/84496 [00:02<00:00, 30899.75it/s]\n",
      "Computing indicator for window of time:  91%|█████████ | 10/11 [00:55<00:05,  5.79s/it]"
     ]
    },
    {
     "name": "stdout",
     "output_type": "stream",
     "text": [
      "saved\n",
      "Done !\n",
      "loading cooc for focal year 2010\n",
      "cooc loaded !\n",
      "loading items for papers in 2010\n"
     ]
    },
    {
     "name": "stderr",
     "output_type": "stream",
     "text": [
      "get_papers_item: 100%|██████████| 89168/89168 [00:00<00:00, 244659.78it/s]\n"
     ]
    },
    {
     "name": "stdout",
     "output_type": "stream",
     "text": [
      "items_loaded !\n",
      "Getting score per year ...\n",
      "comb_scores\n",
      "pickle dump\n",
      "Matrice done !\n",
      "Getting score per paper ...\n"
     ]
    },
    {
     "name": "stderr",
     "output_type": "stream",
     "text": [
      "start: 100%|██████████| 89168/89168 [00:03<00:00, 27012.61it/s]\n",
      "Computing indicator for window of time: 100%|██████████| 11/11 [01:01<00:00,  5.63s/it]"
     ]
    },
    {
     "name": "stdout",
     "output_type": "stream",
     "text": [
      "saved\n",
      "Done !\n"
     ]
    },
    {
     "name": "stderr",
     "output_type": "stream",
     "text": [
      "\n"
     ]
    }
   ],
   "source": [
    "import tqdm\n",
    "import novelpy\n",
    "\n",
    "\n",
    "\n",
    "# Lee et al.(2015) Ref_Journals_sample\n",
    "for focal_year in tqdm.tqdm(range(2000,2011), desc = \"Computing indicator for window of time\"):\n",
    "    Lee = novelpy.indicators.Lee2015(collection_name = \"Ref_Journals_sample\",\n",
    "                                           id_variable = 'PMID',\n",
    "                                           year_variable = 'year',\n",
    "                                           variable = \"c04_referencelist\",\n",
    "                                           sub_variable = \"item\",\n",
    "                                           focal_year = focal_year,\n",
    "                                           density = True)\n",
    "    Lee.get_indicator()"
   ]
  },
  {
   "cell_type": "code",
   "execution_count": 4,
   "metadata": {},
   "outputs": [
    {
     "name": "stderr",
     "output_type": "stream",
     "text": [
      "100%|██████████| 3/3 [00:03<00:00,  1.18s/it]\n"
     ]
    },
    {
     "name": "stdout",
     "output_type": "stream",
     "text": [
      "loading cooc for focal year 2000\n",
      "Calculate past matrix \n",
      "Calculate futur matrix\n",
      "Calculate difficulty matrix\n",
      "cooc loaded !\n",
      "loading items for papers in 2000\n"
     ]
    },
    {
     "name": "stderr",
     "output_type": "stream",
     "text": [
      "get_papers_item: 100%|██████████| 49872/49872 [00:00<00:00, 87135.96it/s] \n"
     ]
    },
    {
     "name": "stdout",
     "output_type": "stream",
     "text": [
      "items_loaded !\n",
      "Getting score per year ...\n"
     ]
    },
    {
     "name": "stderr",
     "output_type": "stream",
     "text": [
      "g:\\Github\\novelpy\\novelpy\\indicators\\Wang2017.py:132: SparseEfficiencyWarning: Comparing a sparse matrix with a scalar greater than zero using < is inefficient, try using >= instead.\n",
      "  self.futur_adj[self.futur_adj < self.n_reutilisation] = 0\n",
      "d:\\anaconda3\\envs\\novelty\\Lib\\site-packages\\scipy\\sparse\\_index.py:145: SparseEfficiencyWarning: Changing the sparsity structure of a csr_matrix is expensive. lil_matrix is more efficient.\n",
      "  self._set_arrayXarray(i, j, x)\n"
     ]
    },
    {
     "name": "stdout",
     "output_type": "stream",
     "text": [
      "Matrice done !\n",
      "Getting score per paper ...\n"
     ]
    },
    {
     "name": "stderr",
     "output_type": "stream",
     "text": [
      "start: 100%|██████████| 49872/49872 [09:37<00:00, 86.42it/s]\n",
      "  9%|▉         | 1/11 [14:19<2:23:16, 859.70s/it]"
     ]
    },
    {
     "name": "stdout",
     "output_type": "stream",
     "text": [
      "saved\n",
      "Done !\n"
     ]
    },
    {
     "name": "stderr",
     "output_type": "stream",
     "text": [
      "100%|██████████| 3/3 [00:04<00:00,  1.58s/it]\n"
     ]
    },
    {
     "name": "stdout",
     "output_type": "stream",
     "text": [
      "loading cooc for focal year 2001\n",
      "Calculate past matrix \n",
      "Calculate futur matrix\n",
      "Calculate difficulty matrix\n",
      "cooc loaded !\n",
      "loading items for papers in 2001\n"
     ]
    },
    {
     "name": "stderr",
     "output_type": "stream",
     "text": [
      "get_papers_item: 100%|██████████| 52046/52046 [00:00<00:00, 77191.65it/s]\n"
     ]
    },
    {
     "name": "stdout",
     "output_type": "stream",
     "text": [
      "items_loaded !\n",
      "Getting score per year ...\n",
      "Matrice done !\n",
      "Getting score per paper ...\n"
     ]
    },
    {
     "name": "stderr",
     "output_type": "stream",
     "text": [
      "start: 100%|██████████| 52046/52046 [10:04<00:00, 86.08it/s] \n",
      " 18%|█▊        | 2/11 [29:27<2:13:10, 887.83s/it]"
     ]
    },
    {
     "name": "stdout",
     "output_type": "stream",
     "text": [
      "saved\n",
      "Done !\n"
     ]
    },
    {
     "name": "stderr",
     "output_type": "stream",
     "text": [
      "100%|██████████| 3/3 [00:04<00:00,  1.61s/it]\n"
     ]
    },
    {
     "name": "stdout",
     "output_type": "stream",
     "text": [
      "loading cooc for focal year 2002\n",
      "Calculate past matrix \n",
      "Calculate futur matrix\n",
      "Calculate difficulty matrix\n",
      "cooc loaded !\n",
      "loading items for papers in 2002\n"
     ]
    },
    {
     "name": "stderr",
     "output_type": "stream",
     "text": [
      "get_papers_item: 100%|██████████| 54721/54721 [00:00<00:00, 73920.76it/s]\n"
     ]
    },
    {
     "name": "stdout",
     "output_type": "stream",
     "text": [
      "items_loaded !\n",
      "Getting score per year ...\n",
      "Matrice done !\n",
      "Getting score per paper ...\n"
     ]
    },
    {
     "name": "stderr",
     "output_type": "stream",
     "text": [
      "start: 100%|██████████| 54721/54721 [10:23<00:00, 87.74it/s] \n",
      " 27%|██▋       | 3/11 [45:21<2:02:27, 918.38s/it]"
     ]
    },
    {
     "name": "stdout",
     "output_type": "stream",
     "text": [
      "saved\n",
      "Done !\n"
     ]
    },
    {
     "name": "stderr",
     "output_type": "stream",
     "text": [
      "100%|██████████| 3/3 [00:03<00:00,  1.21s/it]\n"
     ]
    },
    {
     "name": "stdout",
     "output_type": "stream",
     "text": [
      "loading cooc for focal year 2003\n",
      "Calculate past matrix \n",
      "Calculate futur matrix\n",
      "Calculate difficulty matrix\n",
      "cooc loaded !\n",
      "loading items for papers in 2003\n"
     ]
    },
    {
     "name": "stderr",
     "output_type": "stream",
     "text": [
      "get_papers_item: 100%|██████████| 58439/58439 [00:02<00:00, 23427.73it/s]\n"
     ]
    },
    {
     "name": "stdout",
     "output_type": "stream",
     "text": [
      "items_loaded !\n",
      "Getting score per year ...\n",
      "Matrice done !\n",
      "Getting score per paper ...\n"
     ]
    },
    {
     "name": "stderr",
     "output_type": "stream",
     "text": [
      "start: 100%|██████████| 58439/58439 [11:33<00:00, 84.23it/s]\n",
      " 36%|███▋      | 4/11 [1:02:54<1:53:18, 971.24s/it]"
     ]
    },
    {
     "name": "stdout",
     "output_type": "stream",
     "text": [
      "saved\n",
      "Done !\n"
     ]
    },
    {
     "name": "stderr",
     "output_type": "stream",
     "text": [
      "100%|██████████| 3/3 [00:03<00:00,  1.22s/it]\n"
     ]
    },
    {
     "name": "stdout",
     "output_type": "stream",
     "text": [
      "loading cooc for focal year 2004\n",
      "Calculate past matrix \n",
      "Calculate futur matrix\n",
      "Calculate difficulty matrix\n",
      "cooc loaded !\n",
      "loading items for papers in 2004\n"
     ]
    },
    {
     "name": "stderr",
     "output_type": "stream",
     "text": [
      "get_papers_item: 100%|██████████| 62241/62241 [00:02<00:00, 25570.52it/s]\n"
     ]
    },
    {
     "name": "stdout",
     "output_type": "stream",
     "text": [
      "items_loaded !\n",
      "Getting score per year ...\n",
      "Matrice done !\n",
      "Getting score per paper ...\n"
     ]
    },
    {
     "name": "stderr",
     "output_type": "stream",
     "text": [
      "start: 100%|██████████| 62241/62241 [12:38<00:00, 82.05it/s] \n",
      " 45%|████▌     | 5/11 [1:22:03<1:43:31, 1035.29s/it]"
     ]
    },
    {
     "name": "stdout",
     "output_type": "stream",
     "text": [
      "saved\n",
      "Done !\n"
     ]
    },
    {
     "name": "stderr",
     "output_type": "stream",
     "text": [
      "100%|██████████| 3/3 [00:04<00:00,  1.52s/it]\n"
     ]
    },
    {
     "name": "stdout",
     "output_type": "stream",
     "text": [
      "loading cooc for focal year 2005\n",
      "Calculate past matrix \n",
      "Calculate futur matrix\n",
      "Calculate difficulty matrix\n",
      "cooc loaded !\n",
      "loading items for papers in 2005\n"
     ]
    },
    {
     "name": "stderr",
     "output_type": "stream",
     "text": [
      "get_papers_item: 100%|██████████| 67361/67361 [00:00<00:00, 184603.74it/s]\n"
     ]
    },
    {
     "name": "stdout",
     "output_type": "stream",
     "text": [
      "items_loaded !\n",
      "Getting score per year ...\n",
      "Matrice done !\n",
      "Getting score per paper ...\n"
     ]
    },
    {
     "name": "stderr",
     "output_type": "stream",
     "text": [
      "start: 100%|██████████| 67361/67361 [13:20<00:00, 84.18it/s] \n",
      " 55%|█████▍    | 6/11 [1:42:08<1:31:05, 1093.16s/it]"
     ]
    },
    {
     "name": "stdout",
     "output_type": "stream",
     "text": [
      "saved\n",
      "Done !\n"
     ]
    },
    {
     "name": "stderr",
     "output_type": "stream",
     "text": [
      "100%|██████████| 3/3 [00:04<00:00,  1.35s/it]\n"
     ]
    },
    {
     "name": "stdout",
     "output_type": "stream",
     "text": [
      "loading cooc for focal year 2006\n",
      "Calculate past matrix \n",
      "Calculate futur matrix\n",
      "Calculate difficulty matrix\n",
      "cooc loaded !\n",
      "loading items for papers in 2006\n"
     ]
    },
    {
     "name": "stderr",
     "output_type": "stream",
     "text": [
      "get_papers_item: 100%|██████████| 70501/70501 [00:02<00:00, 27513.05it/s]\n"
     ]
    },
    {
     "name": "stdout",
     "output_type": "stream",
     "text": [
      "items_loaded !\n",
      "Getting score per year ...\n",
      "Matrice done !\n",
      "Getting score per paper ...\n"
     ]
    },
    {
     "name": "stderr",
     "output_type": "stream",
     "text": [
      "start: 100%|██████████| 70501/70501 [13:07<00:00, 89.51it/s]\n",
      " 64%|██████▎   | 7/11 [2:02:16<1:15:22, 1130.62s/it]"
     ]
    },
    {
     "name": "stdout",
     "output_type": "stream",
     "text": [
      "saved\n",
      "Done !\n"
     ]
    },
    {
     "name": "stderr",
     "output_type": "stream",
     "text": [
      "100%|██████████| 3/3 [00:04<00:00,  1.44s/it]\n"
     ]
    },
    {
     "name": "stdout",
     "output_type": "stream",
     "text": [
      "loading cooc for focal year 2007\n",
      "Calculate past matrix \n",
      "Calculate futur matrix\n",
      "Calculate difficulty matrix\n",
      "cooc loaded !\n",
      "loading items for papers in 2007\n"
     ]
    },
    {
     "name": "stderr",
     "output_type": "stream",
     "text": [
      "get_papers_item: 100%|██████████| 75717/75717 [00:02<00:00, 27126.15it/s]\n"
     ]
    },
    {
     "name": "stdout",
     "output_type": "stream",
     "text": [
      "items_loaded !\n",
      "Getting score per year ...\n",
      "Matrice done !\n",
      "Getting score per paper ...\n"
     ]
    },
    {
     "name": "stderr",
     "output_type": "stream",
     "text": [
      "start: 100%|██████████| 75717/75717 [13:42<00:00, 92.06it/s] \n",
      " 73%|███████▎  | 8/11 [2:23:18<58:37, 1172.62s/it]  "
     ]
    },
    {
     "name": "stdout",
     "output_type": "stream",
     "text": [
      "saved\n",
      "Done !\n"
     ]
    },
    {
     "name": "stderr",
     "output_type": "stream",
     "text": [
      "100%|██████████| 3/3 [00:04<00:00,  1.49s/it]\n"
     ]
    },
    {
     "name": "stdout",
     "output_type": "stream",
     "text": [
      "loading cooc for focal year 2008\n",
      "Calculate past matrix \n",
      "Calculate futur matrix\n",
      "Calculate difficulty matrix\n",
      "cooc loaded !\n",
      "loading items for papers in 2008\n"
     ]
    },
    {
     "name": "stderr",
     "output_type": "stream",
     "text": [
      "get_papers_item: 100%|██████████| 81228/81228 [00:02<00:00, 30761.85it/s]\n"
     ]
    },
    {
     "name": "stdout",
     "output_type": "stream",
     "text": [
      "items_loaded !\n",
      "Getting score per year ...\n",
      "Matrice done !\n",
      "Getting score per paper ...\n"
     ]
    },
    {
     "name": "stderr",
     "output_type": "stream",
     "text": [
      "start: 100%|██████████| 81228/81228 [14:26<00:00, 93.70it/s]\n",
      " 82%|████████▏ | 9/11 [2:45:09<40:31, 1215.62s/it]"
     ]
    },
    {
     "name": "stdout",
     "output_type": "stream",
     "text": [
      "saved\n",
      "Done !\n"
     ]
    },
    {
     "name": "stderr",
     "output_type": "stream",
     "text": [
      "100%|██████████| 3/3 [00:06<00:00,  2.24s/it]\n"
     ]
    },
    {
     "name": "stdout",
     "output_type": "stream",
     "text": [
      "loading cooc for focal year 2009\n",
      "Calculate past matrix \n",
      "Calculate futur matrix\n",
      "Calculate difficulty matrix\n",
      "cooc loaded !\n",
      "loading items for papers in 2009\n"
     ]
    },
    {
     "name": "stderr",
     "output_type": "stream",
     "text": [
      "get_papers_item: 100%|██████████| 84496/84496 [00:00<00:00, 85296.54it/s] \n"
     ]
    },
    {
     "name": "stdout",
     "output_type": "stream",
     "text": [
      "items_loaded !\n",
      "Getting score per year ...\n",
      "Matrice done !\n",
      "Getting score per paper ...\n"
     ]
    },
    {
     "name": "stderr",
     "output_type": "stream",
     "text": [
      "start: 100%|██████████| 84496/84496 [15:33<00:00, 90.54it/s] \n",
      " 91%|█████████ | 10/11 [3:08:20<21:09, 1269.79s/it]"
     ]
    },
    {
     "name": "stdout",
     "output_type": "stream",
     "text": [
      "saved\n",
      "Done !\n"
     ]
    },
    {
     "name": "stderr",
     "output_type": "stream",
     "text": [
      "100%|██████████| 3/3 [00:04<00:00,  1.66s/it]\n"
     ]
    },
    {
     "name": "stdout",
     "output_type": "stream",
     "text": [
      "loading cooc for focal year 2010\n",
      "Calculate past matrix \n",
      "Calculate futur matrix\n",
      "Calculate difficulty matrix\n",
      "cooc loaded !\n",
      "loading items for papers in 2010\n"
     ]
    },
    {
     "name": "stderr",
     "output_type": "stream",
     "text": [
      "get_papers_item: 100%|██████████| 89168/89168 [00:02<00:00, 33509.20it/s]\n"
     ]
    },
    {
     "name": "stdout",
     "output_type": "stream",
     "text": [
      "items_loaded !\n",
      "Getting score per year ...\n",
      "Matrice done !\n",
      "Getting score per paper ...\n"
     ]
    },
    {
     "name": "stderr",
     "output_type": "stream",
     "text": [
      "start: 100%|██████████| 89168/89168 [16:29<00:00, 90.08it/s]\n",
      "100%|██████████| 11/11 [3:32:37<00:00, 1159.75s/it]"
     ]
    },
    {
     "name": "stdout",
     "output_type": "stream",
     "text": [
      "saved\n",
      "Done !\n"
     ]
    },
    {
     "name": "stderr",
     "output_type": "stream",
     "text": [
      "\n"
     ]
    }
   ],
   "source": [
    "# Wang et al.(2017) Meshterms_sample\n",
    "for focal_year in tqdm.tqdm(range(2000,2011)):\n",
    "    Wang = novelpy.indicators.Wang2017(collection_name = \"Meshterms_sample\",\n",
    "                                           id_variable = 'PMID',\n",
    "                                           year_variable = 'year',\n",
    "                                           variable = \"Mesh_year_category\",\n",
    "                                           sub_variable = \"descUI\",\n",
    "                                           focal_year = focal_year,\n",
    "                                           time_window_cooc = 3,\n",
    "                                           n_reutilisation = 1,\n",
    "                                           starting_year = 1995,\n",
    "                                           density = True)\n",
    "    Wang.get_indicator()\n"
   ]
  },
  {
   "cell_type": "code",
   "execution_count": 5,
   "metadata": {},
   "outputs": [
    {
     "name": "stderr",
     "output_type": "stream",
     "text": [
      "100%|██████████| 3/3 [00:00<00:00,  5.12it/s]\n"
     ]
    },
    {
     "name": "stdout",
     "output_type": "stream",
     "text": [
      "loading cooc for focal year 2000\n",
      "Calculate past matrix \n",
      "Calculate futur matrix\n",
      "Calculate difficulty matrix\n",
      "cooc loaded !\n",
      "loading items for papers in 2000\n"
     ]
    },
    {
     "name": "stderr",
     "output_type": "stream",
     "text": [
      "get_papers_item: 100%|██████████| 49872/49872 [00:00<00:00, 457552.43it/s]\n"
     ]
    },
    {
     "name": "stdout",
     "output_type": "stream",
     "text": [
      "items_loaded !\n",
      "Getting score per year ...\n",
      "Matrice done !\n",
      "Getting score per paper ...\n"
     ]
    },
    {
     "name": "stderr",
     "output_type": "stream",
     "text": [
      "start: 100%|██████████| 49872/49872 [00:02<00:00, 23315.48it/s]\n",
      "  9%|▉         | 1/11 [01:51<18:32, 111.20s/it]"
     ]
    },
    {
     "name": "stdout",
     "output_type": "stream",
     "text": [
      "saved\n",
      "Done !\n"
     ]
    },
    {
     "name": "stderr",
     "output_type": "stream",
     "text": [
      "100%|██████████| 3/3 [00:00<00:00,  8.62it/s]\n"
     ]
    },
    {
     "name": "stdout",
     "output_type": "stream",
     "text": [
      "loading cooc for focal year 2001\n",
      "Calculate past matrix \n",
      "Calculate futur matrix\n",
      "Calculate difficulty matrix\n",
      "cooc loaded !\n",
      "loading items for papers in 2001\n"
     ]
    },
    {
     "name": "stderr",
     "output_type": "stream",
     "text": [
      "get_papers_item: 100%|██████████| 52046/52046 [00:00<00:00, 452576.69it/s]\n"
     ]
    },
    {
     "name": "stdout",
     "output_type": "stream",
     "text": [
      "items_loaded !\n",
      "Getting score per year ...\n",
      "Matrice done !\n",
      "Getting score per paper ...\n"
     ]
    },
    {
     "name": "stderr",
     "output_type": "stream",
     "text": [
      "start: 100%|██████████| 52046/52046 [00:02<00:00, 21755.20it/s]\n",
      " 18%|█▊        | 2/11 [03:45<16:55, 112.85s/it]"
     ]
    },
    {
     "name": "stdout",
     "output_type": "stream",
     "text": [
      "saved\n",
      "Done !\n"
     ]
    },
    {
     "name": "stderr",
     "output_type": "stream",
     "text": [
      "100%|██████████| 3/3 [00:00<00:00,  8.13it/s]\n"
     ]
    },
    {
     "name": "stdout",
     "output_type": "stream",
     "text": [
      "loading cooc for focal year 2002\n",
      "Calculate past matrix \n",
      "Calculate futur matrix\n",
      "Calculate difficulty matrix\n",
      "cooc loaded !\n",
      "loading items for papers in 2002\n"
     ]
    },
    {
     "name": "stderr",
     "output_type": "stream",
     "text": [
      "get_papers_item: 100%|██████████| 54721/54721 [00:00<00:00, 434292.26it/s]\n"
     ]
    },
    {
     "name": "stdout",
     "output_type": "stream",
     "text": [
      "items_loaded !\n",
      "Getting score per year ...\n",
      "Matrice done !\n",
      "Getting score per paper ...\n"
     ]
    },
    {
     "name": "stderr",
     "output_type": "stream",
     "text": [
      "start: 100%|██████████| 54721/54721 [00:02<00:00, 20356.87it/s]\n",
      " 27%|██▋       | 3/11 [05:44<15:26, 115.80s/it]"
     ]
    },
    {
     "name": "stdout",
     "output_type": "stream",
     "text": [
      "saved\n",
      "Done !\n"
     ]
    },
    {
     "name": "stderr",
     "output_type": "stream",
     "text": [
      "100%|██████████| 3/3 [00:00<00:00,  6.83it/s]\n"
     ]
    },
    {
     "name": "stdout",
     "output_type": "stream",
     "text": [
      "loading cooc for focal year 2003\n",
      "Calculate past matrix \n",
      "Calculate futur matrix\n",
      "Calculate difficulty matrix\n",
      "cooc loaded !\n",
      "loading items for papers in 2003\n"
     ]
    },
    {
     "name": "stderr",
     "output_type": "stream",
     "text": [
      "get_papers_item: 100%|██████████| 58439/58439 [00:00<00:00, 439396.83it/s]\n"
     ]
    },
    {
     "name": "stdout",
     "output_type": "stream",
     "text": [
      "items_loaded !\n",
      "Getting score per year ...\n",
      "Matrice done !\n",
      "Getting score per paper ...\n"
     ]
    },
    {
     "name": "stderr",
     "output_type": "stream",
     "text": [
      "start: 100%|██████████| 58439/58439 [00:03<00:00, 19341.30it/s]\n",
      " 36%|███▋      | 4/11 [07:47<13:51, 118.79s/it]"
     ]
    },
    {
     "name": "stdout",
     "output_type": "stream",
     "text": [
      "saved\n",
      "Done !\n"
     ]
    },
    {
     "name": "stderr",
     "output_type": "stream",
     "text": [
      "100%|██████████| 3/3 [00:00<00:00,  6.65it/s]\n"
     ]
    },
    {
     "name": "stdout",
     "output_type": "stream",
     "text": [
      "loading cooc for focal year 2004\n",
      "Calculate past matrix \n",
      "Calculate futur matrix\n",
      "Calculate difficulty matrix\n",
      "cooc loaded !\n",
      "loading items for papers in 2004\n"
     ]
    },
    {
     "name": "stderr",
     "output_type": "stream",
     "text": [
      "get_papers_item: 100%|██████████| 62241/62241 [00:01<00:00, 50761.83it/s]\n"
     ]
    },
    {
     "name": "stdout",
     "output_type": "stream",
     "text": [
      "items_loaded !\n",
      "Getting score per year ...\n",
      "Matrice done !\n",
      "Getting score per paper ...\n"
     ]
    },
    {
     "name": "stderr",
     "output_type": "stream",
     "text": [
      "start: 100%|██████████| 62241/62241 [00:03<00:00, 17772.24it/s]\n",
      " 45%|████▌     | 5/11 [09:53<12:06, 121.09s/it]"
     ]
    },
    {
     "name": "stdout",
     "output_type": "stream",
     "text": [
      "saved\n",
      "Done !\n"
     ]
    },
    {
     "name": "stderr",
     "output_type": "stream",
     "text": [
      "100%|██████████| 3/3 [00:00<00:00,  6.02it/s]\n"
     ]
    },
    {
     "name": "stdout",
     "output_type": "stream",
     "text": [
      "loading cooc for focal year 2005\n",
      "Calculate past matrix \n",
      "Calculate futur matrix\n",
      "Calculate difficulty matrix\n",
      "cooc loaded !\n",
      "loading items for papers in 2005\n"
     ]
    },
    {
     "name": "stderr",
     "output_type": "stream",
     "text": [
      "get_papers_item: 100%|██████████| 67361/67361 [00:00<00:00, 426262.78it/s]\n"
     ]
    },
    {
     "name": "stdout",
     "output_type": "stream",
     "text": [
      "items_loaded !\n",
      "Getting score per year ...\n",
      "Matrice done !\n",
      "Getting score per paper ...\n"
     ]
    },
    {
     "name": "stderr",
     "output_type": "stream",
     "text": [
      "start: 100%|██████████| 67361/67361 [00:04<00:00, 14828.80it/s]\n",
      " 55%|█████▍    | 6/11 [11:59<10:14, 122.91s/it]"
     ]
    },
    {
     "name": "stdout",
     "output_type": "stream",
     "text": [
      "saved\n",
      "Done !\n"
     ]
    },
    {
     "name": "stderr",
     "output_type": "stream",
     "text": [
      "100%|██████████| 3/3 [00:00<00:00,  6.07it/s]\n"
     ]
    },
    {
     "name": "stdout",
     "output_type": "stream",
     "text": [
      "loading cooc for focal year 2006\n",
      "Calculate past matrix \n",
      "Calculate futur matrix\n",
      "Calculate difficulty matrix\n",
      "cooc loaded !\n",
      "loading items for papers in 2006\n"
     ]
    },
    {
     "name": "stderr",
     "output_type": "stream",
     "text": [
      "get_papers_item: 100%|██████████| 70501/70501 [00:01<00:00, 58994.49it/s]\n"
     ]
    },
    {
     "name": "stdout",
     "output_type": "stream",
     "text": [
      "items_loaded !\n",
      "Getting score per year ...\n",
      "Matrice done !\n",
      "Getting score per paper ...\n"
     ]
    },
    {
     "name": "stderr",
     "output_type": "stream",
     "text": [
      "start: 100%|██████████| 70501/70501 [00:03<00:00, 18863.69it/s]\n",
      " 64%|██████▎   | 7/11 [14:07<08:17, 124.45s/it]"
     ]
    },
    {
     "name": "stdout",
     "output_type": "stream",
     "text": [
      "saved\n",
      "Done !\n"
     ]
    },
    {
     "name": "stderr",
     "output_type": "stream",
     "text": [
      "100%|██████████| 3/3 [00:00<00:00,  5.84it/s]\n"
     ]
    },
    {
     "name": "stdout",
     "output_type": "stream",
     "text": [
      "loading cooc for focal year 2007\n",
      "Calculate past matrix \n",
      "Calculate futur matrix\n",
      "Calculate difficulty matrix\n",
      "cooc loaded !\n",
      "loading items for papers in 2007\n"
     ]
    },
    {
     "name": "stderr",
     "output_type": "stream",
     "text": [
      "get_papers_item: 100%|██████████| 75717/75717 [00:00<00:00, 596202.01it/s]\n"
     ]
    },
    {
     "name": "stdout",
     "output_type": "stream",
     "text": [
      "items_loaded !\n",
      "Getting score per year ...\n",
      "Matrice done !\n",
      "Getting score per paper ...\n"
     ]
    },
    {
     "name": "stderr",
     "output_type": "stream",
     "text": [
      "start: 100%|██████████| 75717/75717 [00:04<00:00, 18729.54it/s]\n",
      " 73%|███████▎  | 8/11 [16:16<06:18, 126.11s/it]"
     ]
    },
    {
     "name": "stdout",
     "output_type": "stream",
     "text": [
      "saved\n",
      "Done !\n"
     ]
    },
    {
     "name": "stderr",
     "output_type": "stream",
     "text": [
      "100%|██████████| 3/3 [00:00<00:00,  5.52it/s]\n"
     ]
    },
    {
     "name": "stdout",
     "output_type": "stream",
     "text": [
      "loading cooc for focal year 2008\n",
      "Calculate past matrix \n",
      "Calculate futur matrix\n",
      "Calculate difficulty matrix\n",
      "cooc loaded !\n",
      "loading items for papers in 2008\n"
     ]
    },
    {
     "name": "stderr",
     "output_type": "stream",
     "text": [
      "get_papers_item: 100%|██████████| 81228/81228 [00:01<00:00, 63858.64it/s]\n"
     ]
    },
    {
     "name": "stdout",
     "output_type": "stream",
     "text": [
      "items_loaded !\n",
      "Getting score per year ...\n",
      "Matrice done !\n",
      "Getting score per paper ...\n"
     ]
    },
    {
     "name": "stderr",
     "output_type": "stream",
     "text": [
      "start: 100%|██████████| 81228/81228 [00:04<00:00, 16938.12it/s]\n",
      " 82%|████████▏ | 9/11 [18:28<04:15, 127.96s/it]"
     ]
    },
    {
     "name": "stdout",
     "output_type": "stream",
     "text": [
      "saved\n",
      "Done !\n"
     ]
    },
    {
     "name": "stderr",
     "output_type": "stream",
     "text": [
      "100%|██████████| 3/3 [00:00<00:00,  5.05it/s]\n"
     ]
    },
    {
     "name": "stdout",
     "output_type": "stream",
     "text": [
      "loading cooc for focal year 2009\n",
      "Calculate past matrix \n",
      "Calculate futur matrix\n",
      "Calculate difficulty matrix\n",
      "cooc loaded !\n",
      "loading items for papers in 2009\n"
     ]
    },
    {
     "name": "stderr",
     "output_type": "stream",
     "text": [
      "get_papers_item: 100%|██████████| 84496/84496 [00:00<00:00, 435547.98it/s]\n"
     ]
    },
    {
     "name": "stdout",
     "output_type": "stream",
     "text": [
      "items_loaded !\n",
      "Getting score per year ...\n",
      "Matrice done !\n",
      "Getting score per paper ...\n"
     ]
    },
    {
     "name": "stderr",
     "output_type": "stream",
     "text": [
      "start: 100%|██████████| 84496/84496 [00:06<00:00, 13997.56it/s]\n",
      " 91%|█████████ | 10/11 [20:42<02:09, 129.81s/it]"
     ]
    },
    {
     "name": "stdout",
     "output_type": "stream",
     "text": [
      "saved\n",
      "Done !\n"
     ]
    },
    {
     "name": "stderr",
     "output_type": "stream",
     "text": [
      "100%|██████████| 3/3 [00:00<00:00,  4.80it/s]\n"
     ]
    },
    {
     "name": "stdout",
     "output_type": "stream",
     "text": [
      "loading cooc for focal year 2010\n",
      "Calculate past matrix \n",
      "Calculate futur matrix\n",
      "Calculate difficulty matrix\n",
      "cooc loaded !\n",
      "loading items for papers in 2010\n"
     ]
    },
    {
     "name": "stderr",
     "output_type": "stream",
     "text": [
      "get_papers_item: 100%|██████████| 89168/89168 [00:01<00:00, 69984.72it/s]\n"
     ]
    },
    {
     "name": "stdout",
     "output_type": "stream",
     "text": [
      "items_loaded !\n",
      "Getting score per year ...\n",
      "Matrice done !\n",
      "Getting score per paper ...\n"
     ]
    },
    {
     "name": "stderr",
     "output_type": "stream",
     "text": [
      "start: 100%|██████████| 89168/89168 [00:08<00:00, 10680.96it/s]\n",
      "100%|██████████| 11/11 [22:58<00:00, 125.31s/it]"
     ]
    },
    {
     "name": "stdout",
     "output_type": "stream",
     "text": [
      "saved\n",
      "Done !\n"
     ]
    },
    {
     "name": "stderr",
     "output_type": "stream",
     "text": [
      "\n"
     ]
    }
   ],
   "source": [
    "import tqdm\n",
    "import novelpy\n",
    "\n",
    "# Wang et al.(2017) Ref_Journals_sample\n",
    "for focal_year in tqdm.tqdm(range(2000,2011)):\n",
    "    Wang = novelpy.indicators.Wang2017(collection_name = \"Ref_Journals_sample\",\n",
    "                                           id_variable = 'PMID',\n",
    "                                           year_variable = 'year',\n",
    "                                           variable = \"c04_referencelist\",\n",
    "                                           sub_variable = \"item\",\n",
    "                                           focal_year = focal_year,\n",
    "                                           time_window_cooc = 3,\n",
    "                                           n_reutilisation = 1,\n",
    "                                           starting_year = 1995,\n",
    "                                           density = True)\n",
    "    Wang.get_indicator()"
   ]
  },
  {
   "cell_type": "code",
   "execution_count": 1,
   "metadata": {},
   "outputs": [
    {
     "name": "stderr",
     "output_type": "stream",
     "text": [
      "d:\\anaconda3\\envs\\novelty\\Lib\\site-packages\\spacy\\util.py:910: UserWarning: [W095] Model 'en_core_sci_lg' (0.4.0) was trained with spaCy v3.0.1 and may not be 100% compatible with the current version (3.7.2). If you see errors or degraded performance, download a newer compatible model or retrain your custom model with the current spaCy version. For more details and available updates, run: python -m spacy validate\n",
      "  warnings.warn(warn_msg)\n"
     ]
    },
    {
     "name": "stdout",
     "output_type": "stream",
     "text": [
      "init_dbs_centroid\n"
     ]
    },
    {
     "name": "stderr",
     "output_type": "stream",
     "text": [
      "  0%|          | 0/11 [00:00<?, ?it/s]"
     ]
    },
    {
     "name": "stdout",
     "output_type": "stream",
     "text": [
      "load_data_centroid\n"
     ]
    },
    {
     "name": "stderr",
     "output_type": "stream",
     "text": [
      "100%|██████████| 49872/49872 [25:42<00:00, 32.34it/s]\n",
      "  9%|▉         | 1/11 [26:13<4:22:19, 1573.91s/it]"
     ]
    },
    {
     "name": "stdout",
     "output_type": "stream",
     "text": [
      "load_data_centroid\n"
     ]
    },
    {
     "name": "stderr",
     "output_type": "stream",
     "text": [
      "100%|██████████| 52046/52046 [26:21<00:00, 32.91it/s]\n",
      " 18%|█▊        | 2/11 [53:09<3:59:46, 1598.48s/it]"
     ]
    },
    {
     "name": "stdout",
     "output_type": "stream",
     "text": [
      "load_data_centroid\n"
     ]
    },
    {
     "name": "stderr",
     "output_type": "stream",
     "text": [
      "100%|██████████| 54721/54721 [26:50<00:00, 33.98it/s]\n",
      " 27%|██▋       | 3/11 [1:20:35<3:36:02, 1620.32s/it]"
     ]
    },
    {
     "name": "stdout",
     "output_type": "stream",
     "text": [
      "load_data_centroid\n"
     ]
    },
    {
     "name": "stderr",
     "output_type": "stream",
     "text": [
      "100%|██████████| 58439/58439 [28:35<00:00, 34.06it/s]\n",
      " 36%|███▋      | 4/11 [1:49:50<3:15:13, 1673.42s/it]"
     ]
    },
    {
     "name": "stdout",
     "output_type": "stream",
     "text": [
      "load_data_centroid\n"
     ]
    },
    {
     "name": "stderr",
     "output_type": "stream",
     "text": []
    }
   ],
   "source": [
    "from novelpy.utils.embedding import Embedding\n",
    "\n",
    "embedding = Embedding(\n",
    "            year_variable = 'year',\n",
    "            time_range = range(2000,2011),\n",
    "            id_variable = 'PMID',\n",
    "            references_variable = 'refs_pmid_wos',\n",
    "            pretrain_path = 'en_core_sci_lg-0.4.0/en_core_sci_lg/en_core_sci_lg-0.4.0',\n",
    "            title_variable = 'ArticleTitle',\n",
    "            abstract_variable = 'a04_abstract',\n",
    "            abstract_subvariable = 'AbstractText')\n",
    "\n",
    "# articles\n",
    "\n",
    "embedding.get_articles_centroid(\n",
    "      collection_articles = 'Title_abs_sample',\n",
    "      collection_embedding = 'embedding')"
   ]
  },
  {
   "cell_type": "code",
   "execution_count": null,
   "metadata": {},
   "outputs": [],
   "source": [
    "import novelpy\n",
    "import tqdm\n",
    "\n",
    "for focal_year in tqdm.tqdm(range(2000,2011), desc = \"Computing indicator for window of time\"):\n",
    " shibayama = novelpy.indicators.Shibayama2021(\n",
    "      collection_name = 'Citation_net_sample',\n",
    "      collection_embedding_name = 'embedding',\n",
    "      id_variable = 'PMID',\n",
    "      year_variable = 'year',\n",
    "      ref_variable = 'refs_pmid_wos',\n",
    "      entity = ['title_embedding','abstract_embedding'],\n",
    "      focal_year = focal_year,\n",
    "      density = True)\n",
    "\n",
    " shibayama.get_indicator()"
   ]
  },
  {
   "cell_type": "code",
   "execution_count": null,
   "metadata": {},
   "outputs": [],
   "source": [
    "from novelpy.utils import Embedding\n",
    "from novelpy.utils import create_authors_past\n",
    "import novelpy\n",
    "\n",
    "# First step is to create a collection where each doc contains the author ID and its list of document he coauthored\n",
    "clean = create_authors_past(\n",
    "                             collection_name = \"authors_sample\",\n",
    "                             id_variable = \"PMID\",\n",
    "                             variable = \"a02_authorlist\",\n",
    "                             sub_variable = \"AID\")\n",
    "\n",
    "clean.author2paper()\n",
    "clean.update_db()\n",
    "\n",
    "embedding = Embedding(\n",
    "      year_variable = 'year',\n",
    "      id_variable = 'PMID',\n",
    "      references_variable = 'refs_pmid_wos',\n",
    "      pretrain_path = r'en_core_sci_lg-0.4.0\\en_core_sci_lg\\en_core_sci_lg-0.4.0',\n",
    "      title_variable = 'ArticleTitle',\n",
    "      abstract_variable = 'a04_abstract',\n",
    "      abstract_subvariable = 'AbstractText',\n",
    "      aut_id_variable = 'AID',\n",
    "      aut_pubs_variable = 'doc_list')\n",
    "\n",
    "\n",
    "\"\"\"\n",
    "embedding.get_articles_centroid(\n",
    "      collection_articles = 'Title_abs_sample',\n",
    "      collection_embedding = 'embedding')\n",
    "\"\"\"\n",
    "\n",
    "\n",
    "\n",
    "embedding.feed_author_profile(\n",
    "    aut_id_variable = 'AID',\n",
    "    aut_pubs_variable = 'doc_list',\n",
    "    collection_authors = 'authors_sample_cleaned',\n",
    "    collection_embedding = 'embedding')"
   ]
  },
  {
   "cell_type": "code",
   "execution_count": null,
   "metadata": {},
   "outputs": [],
   "source": [
    "from novelpy.indicators.Author_proximity import Author_proximity\n",
    "\n",
    "for year in range(2000,2011):\n",
    "    author =  Author_proximity(\n",
    "                         collection_name = 'authors_sample',\n",
    "                         id_variable = 'PMID',\n",
    "                         year_variable = 'year',\n",
    "                         aut_list_variable = 'a02_authorlist',\n",
    "                         aut_id_variable = 'AID',\n",
    "                         entity = ['title','abstract'],\n",
    "                         focal_year = year,\n",
    "                         windows_size = 5,\n",
    "                       density = True)\n",
    "\n",
    "    author.get_indicator()"
   ]
  }
 ],
 "metadata": {
  "kernelspec": {
   "display_name": "novelty",
   "language": "python",
   "name": "python3"
  },
  "language_info": {
   "codemirror_mode": {
    "name": "ipython",
    "version": 3
   },
   "file_extension": ".py",
   "mimetype": "text/x-python",
   "name": "python",
   "nbconvert_exporter": "python",
   "pygments_lexer": "ipython3",
   "version": "3.12.1"
  }
 },
 "nbformat": 4,
 "nbformat_minor": 2
}
